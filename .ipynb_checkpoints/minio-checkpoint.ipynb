{
 "cells": [
  {
   "cell_type": "markdown",
   "id": "1ecece44",
   "metadata": {},
   "source": [
    "**FR** - Le présent notebook donne des exemples d'interaction avec un serveur MinIO qui expose un service S3 :\n",
    " - téléverser un fichier Zarr dans un contenant (bucket) \n",
    " - synchroniser le contenu d'un répertoire local avec un bucket à l'aide de s3fs-fuses3fs-fuse <br>\n",
    " \n",
    "**EN** - This notebook provides a few examples of how to interact with a MinIO server that exposes an S3 service :\n",
    " - upload a Zarr file to a bucket\n",
    " - synchronize the contents of a local file to a bucket with s3fs-fuse"
   ]
  },
  {
   "cell_type": "markdown",
   "id": "e3545115-b1ee-4382-be28-43574e24fcfa",
   "metadata": {},
   "source": [
    "# Upload Zarr"
   ]
  },
  {
   "cell_type": "markdown",
   "id": "6b5c7c76-9915-4cc9-b3b9-5dfd5c5ab2fb",
   "metadata": {
    "tags": []
   },
   "source": [
    "Zarr files really are a collection of files and directories.  The example below therefore is more like a `how to` for uploading a directory. <br> <br>\n",
    "The specific case illustrated here is that of a MinIO service that has \"certificate issues\".  The common use case is a MinIO test set up using a self-signed certificate but this example uses the internal DNS name of one of the pods where the MinIO service is running (and its exposed `NodePort`), though this is not shown explicitly thanks to `getpass`. Of course, an external IP is necessary for production use. "
   ]
  },
  {
   "cell_type": "code",
   "execution_count": null,
   "id": "2ca6f369",
   "metadata": {
    "tags": []
   },
   "outputs": [],
   "source": [
    "# We need to import urllib3 to disable certificate verification when MinIO servers were not set up with CA-level certificates (e.g. self signed certificates)\n",
    "import urllib3\n",
    "import pathlib\n",
    "import getpass # getpass allows to pass credentials and other sensitive information securely\n",
    "from minio.api import Minio # Even though doc says \"from minio import Minio\" this will not work with MinIO 7.1.16 (current as of 09/2023)"
   ]
  },
  {
   "cell_type": "code",
   "execution_count": null,
   "id": "339ee187",
   "metadata": {
    "tags": []
   },
   "outputs": [],
   "source": [
    "access_key = getpass.getpass(prompt='MinIO access key: ')"
   ]
  },
  {
   "cell_type": "code",
   "execution_count": null,
   "id": "270b3797",
   "metadata": {
    "tags": []
   },
   "outputs": [],
   "source": [
    "secret_access_key = getpass.getpass(prompt='MinIO secret access key: ')"
   ]
  },
  {
   "cell_type": "code",
   "execution_count": null,
   "id": "a869f824",
   "metadata": {
    "tags": []
   },
   "outputs": [],
   "source": [
    "endpoint = getpass.getpass(prompt='MinIO endpoint without http.s and with port speficied after colon: ')"
   ]
  },
  {
   "cell_type": "code",
   "execution_count": null,
   "id": "16defb61",
   "metadata": {
    "tags": []
   },
   "outputs": [],
   "source": [
    "client = Minio(endpoint,\n",
    "    access_key=access_key,\n",
    "    secret_key=secret_access_key,\n",
    "    secure=True, # needed to ensure https; avoids \"http not allowed on https\" errors\n",
    "    http_client=urllib3.PoolManager(cert_reqs='CERT_NONE') # explicitly not care about certificate; not for a production server!\n",
    "    ) "
   ]
  },
  {
   "cell_type": "code",
   "execution_count": null,
   "id": "351d5aa6",
   "metadata": {
    "tags": []
   },
   "outputs": [],
   "source": [
    "# One can then interact with the object storage service, like list buckets\n",
    "bucket_list = client.list_buckets()"
   ]
  },
  {
   "cell_type": "code",
   "execution_count": null,
   "id": "59f3e0ac",
   "metadata": {
    "tags": []
   },
   "outputs": [],
   "source": [
    "bucket_list"
   ]
  },
  {
   "cell_type": "code",
   "execution_count": null,
   "id": "7d02ec1d",
   "metadata": {},
   "outputs": [],
   "source": [
    "zarr_file = \"hrdps-2023091112-TT.zarr\" # this is an example; `zarr_file` needs to be accessible locally"
   ]
  },
  {
   "cell_type": "code",
   "execution_count": null,
   "id": "5d41ce05",
   "metadata": {},
   "outputs": [],
   "source": [
    "bucket_name = getpass.getpass(prompt='Bucket name ')"
   ]
  },
  {
   "cell_type": "code",
   "execution_count": null,
   "id": "ec5ed57b",
   "metadata": {},
   "outputs": [],
   "source": [
    "# Given `client`, `bucket_name` defined above and\n",
    "# a Zarr file (a directory that has the name of the dataset and contains the series of files and sub-directories that make up the zarr \"file\")\n",
    "\n",
    "def upload_zarr_directory(client, bucket_name, local_directory):\n",
    "    try:\n",
    "        # Validate the arguments\n",
    "        assert isinstance(client, Minio), \"client must be an instance of Minio\"\n",
    "        assert isinstance(bucket_name, str), \"bucket_name must be a string\"\n",
    "        assert isinstance(local_directory, str), \"local_directory must be a string\"\n",
    "\n",
    "        # Check if the bucket exists\n",
    "        if not client.bucket_exists(bucket_name):\n",
    "            raise ValueError(\"Bucket '{}' does not exist on the client\".format(bucket_name))\n",
    "        \n",
    "        # Check if the zarr_file exists\n",
    "\n",
    "        if not pathlib.Path(zarr_file).is_file():\n",
    "            raise ValueError(f\"{zarr_file} is not a valid local file.\")\n",
    "\n",
    "        for file_path in pathlib.Path(local_directory).glob('**/*'):\n",
    "            if file_path.is_file():\n",
    "                object_name = str(pathlib.Path(zarr_filename) / file_path.relative_to(local_directory))\n",
    "                client.fput_object(bucket_name, object_name, str(file_path))\n",
    "\n",
    "    except (AssertionError, ValueError) as e:\n",
    "        raise ValueError(str(e))"
   ]
  },
  {
   "cell_type": "code",
   "execution_count": null,
   "id": "4fef4b4b",
   "metadata": {},
   "outputs": [],
   "source": [
    "# Use function above to upload the whole bit\n",
    "upload_zarr_directory(client, bucket_name, zarr_file)"
   ]
  },
  {
   "cell_type": "markdown",
   "id": "90e79588-4f50-4237-8415-8e54f93c26da",
   "metadata": {},
   "source": [
    "# Synchronize local directory with a bucket"
   ]
  },
  {
   "cell_type": "markdown",
   "id": "51ad4393-4b6e-47de-9546-8f20a5042219",
   "metadata": {},
   "source": [
    "It may be interesting for users to have a copy of a specific folder in a bucket, as a form of backup or as a way to have access to resources through-the-web (TTW).  The MinIO client (`mc`) allows one to \"[mirror](https://min.io/docs/minio/linux/reference/minio-mc/mc-mirror.html)\" a local directory to a bucket but it is a one-way process and it obviously requires `mc` to be installed.  Although it is fairly easy to do so -- just [download one file](https://min.io/docs/minio/linux/reference/minio-mc.html#install-mc), make it executable and run it -- there is a more comprehensive solution : [FUSE](https://en.wikipedia.org/wiki/Filesystem_in_Userspace), more specifically in our case [s3fs](https://linuxbeast.com/aws-operations/how-to-install-s3fs-and-mount-an-s3-bucket-on-ubuntu-20-04/).<br><br>\n",
    "As mentioned in the latter url : \n",
    "\n",
    "```\n",
    "The use case for S3fs is for anyone who needs to access Amazon S3 storage in a more traditional file system interface. This can be especially useful for backing up data, archiving files, or sharing data between different systems. With S3fs, you can interact with S3 as if it were a local file system, making it much easier to automate data transfer and retrieval processes. S3fs is also useful for organizations that use Amazon S3 as their primary storage solution, as it provides a more seamless way to access and manage the data stored there.\n",
    "```\n",
    "\n",
    "> NOTE : MinIO is an implementation of AWS's S3.  As such, software like `s3fs`, which are designed primarily for working with AWS S3, works with other S3 implementations.  The FUSE system can also be used to mount a local directory on Azure object storage, but one must use Microsoft's [blobfuse2](https://learn.microsoft.com/en-us/azure/storage/blobs/blobfuse2-what-is) to do so."
   ]
  },
  {
   "cell_type": "code",
   "execution_count": null,
   "id": "aa7e94e3-da34-467c-9f86-ca652b282763",
   "metadata": {
    "tags": []
   },
   "outputs": [],
   "source": [
    "# This is shown in a notebook cell but should be carried out diretly on the commandline (shown by the prompt sign `$`)\n",
    "# With `s3fs` previously installed on your system\n",
    "# $ s3fs destination_bucket_name local_directory -o passwd_file=path_to_your_creds_file -o url=url_to_your_minio_service -o use_path_request_style -o ssl_verify_hostname=0 -o no_check_certificate\n",
    "# Command to verify your directory is indeed mounted onto a MinIO bucket :\n",
    "# $ mount | grep s3fs\n",
    "# s3fs on `local_directory` type fuse.s3fs (rw,nosuid,nodev,relatime,user_id=61144,group_id=61144)\n"
   ]
  },
  {
   "cell_type": "markdown",
   "id": "ebe9089e-73b6-444b-87ed-4afa658bd035",
   "metadata": {},
   "source": [
    "Some of the options (`-o`).\n",
    "- `passwd_file` must contain one line structured like so : access_key:Secret_access_key.  That is both credential items are separated by a colon (`:`)\n",
    "- `use_path_request_style` apparently needed for MinIO\n",
    "- `ssl_verify_hostname` and `no_check_certificate` : needed to bypass SSL issues.\n",
    "\n",
    "> Note : SSL errors will most often go unnoticed.  You simply won't be able to mount directories with no indication of failure."
   ]
  }
 ],
 "metadata": {
  "kernelspec": {
   "display_name": "CMDS310",
   "language": "python",
   "name": "cmds310"
  },
  "language_info": {
   "codemirror_mode": {
    "name": "ipython",
    "version": 3
   },
   "file_extension": ".py",
   "mimetype": "text/x-python",
   "name": "python",
   "nbconvert_exporter": "python",
   "pygments_lexer": "ipython3",
   "version": "3.10.12"
  }
 },
 "nbformat": 4,
 "nbformat_minor": 5
}
