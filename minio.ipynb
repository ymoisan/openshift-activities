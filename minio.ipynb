{
 "cells": [
  {
   "cell_type": "markdown",
   "id": "1ecece44",
   "metadata": {},
   "source": [
    "FR - Le présent notebook montre comment se connecter à un serveur MinIO qui expose un service S3 et comment téléverser un fichier Zarr dans un contenant (bucket) <br>\n",
    "EN - This notebook shows how to connect to a MinIO server that exposes an S3 service and upload a Zarr file to a bucket"
   ]
  },
  {
   "cell_type": "code",
   "execution_count": null,
   "id": "2ca6f369",
   "metadata": {},
   "outputs": [],
   "source": [
    "# We need to import urllib3 to disable certificate verification when MinIO servers were not set up with CA-level certificates (e.g. self signed certificates)\n",
    "import urllib3\n",
    "import pathlib\n",
    "import getpass # getpass allows to pass credentials and other sensitive information securely\n",
    "from minio.api import Minio # Even though doc says \"from minio import Minio\" this will not work with MinIO 7.1.16 (current as of 09/2023)"
   ]
  },
  {
   "cell_type": "code",
   "execution_count": null,
   "id": "339ee187",
   "metadata": {},
   "outputs": [],
   "source": [
    "# In web console terminal : kubectl get secret noobaa-admin -n openshift-storage -o json | jq -r '.data.AWS_ACCESS_KEY_ID|@base64d'\n",
    "access_key = getpass.getpass(prompt='MinIO access key: ')"
   ]
  },
  {
   "cell_type": "code",
   "execution_count": null,
   "id": "270b3797",
   "metadata": {},
   "outputs": [],
   "source": [
    "# In web console terminal : kubectl get secret noobaa-admin -n openshift-storage -o json | jq -r '.data.AWS_SECRET_ACCESS_KEY|@base64d'\n",
    "secret_access_key = getpass.getpass(prompt='MinIO secret access key: ')"
   ]
  },
  {
   "cell_type": "code",
   "execution_count": null,
   "id": "a869f824",
   "metadata": {},
   "outputs": [],
   "source": [
    "endpoint = getpass.getpass(prompt='MinIO endpoint without http.s and with port speficied after colon: ')"
   ]
  },
  {
   "cell_type": "code",
   "execution_count": null,
   "id": "16defb61",
   "metadata": {},
   "outputs": [],
   "source": [
    "client = Minio(endpoint,\n",
    "    access_key=access_key,\n",
    "    secret_key=secret_access_key,\n",
    "    secure=True, # needed to ensure https; avoids \"http not allowed on https\" errors\n",
    "    http_client=urllib3.PoolManager(cert_reqs='CERT_NONE')\n",
    "    ) # explicitly not care about certificate; not for a production server!"
   ]
  },
  {
   "cell_type": "code",
   "execution_count": null,
   "id": "351d5aa6",
   "metadata": {},
   "outputs": [],
   "source": [
    "bucket_list = client.list_buckets()"
   ]
  },
  {
   "cell_type": "code",
   "execution_count": null,
   "id": "59f3e0ac",
   "metadata": {},
   "outputs": [],
   "source": [
    "bucket_list"
   ]
  },
  {
   "cell_type": "code",
   "execution_count": null,
   "id": "7d02ec1d",
   "metadata": {},
   "outputs": [],
   "source": [
    "zarr_file = \"hrdps-2023091112-TT.zarr\" # this is an example; `zarr_file` needs to be accessible locally"
   ]
  },
  {
   "cell_type": "code",
   "execution_count": null,
   "id": "5d41ce05",
   "metadata": {},
   "outputs": [],
   "source": [
    "bucket_name = getpass.getpass(prompt='Bucket name ')"
   ]
  },
  {
   "cell_type": "code",
   "execution_count": null,
   "id": "ec5ed57b",
   "metadata": {},
   "outputs": [],
   "source": [
    "# Given `client`, `bucket_name` defined above and\n",
    "# a Zarr file (a directory that has the name of the dataset and contains the series of files and sub-directories that make up the zarr \"file\")\n",
    "\n",
    "def upload_zarr_directory(client, bucket_name, local_directory):\n",
    "    try:\n",
    "        # Validate the arguments\n",
    "        assert isinstance(client, Minio), \"client must be an instance of Minio\"\n",
    "        assert isinstance(bucket_name, str), \"bucket_name must be a string\"\n",
    "        assert isinstance(local_directory, str), \"local_directory must be a string\"\n",
    "\n",
    "        # Check if the bucket exists\n",
    "        if not client.bucket_exists(bucket_name):\n",
    "            raise ValueError(\"Bucket '{}' does not exist on the client\".format(bucket_name))\n",
    "        \n",
    "        # Check if the zarr_file exists\n",
    "\n",
    "        if not pathlib.Path(zarr_file).is_file():\n",
    "            raise ValueError(f\"{zarr_file} is not a valid local file.\")\n",
    "\n",
    "        for file_path in pathlib.Path(local_directory).glob('**/*'):\n",
    "            if file_path.is_file():\n",
    "                object_name = str(pathlib.Path(zarr_filename) / file_path.relative_to(local_directory))\n",
    "                client.fput_object(bucket_name, object_name, str(file_path))\n",
    "\n",
    "    except (AssertionError, ValueError) as e:\n",
    "        raise ValueError(str(e))"
   ]
  },
  {
   "cell_type": "code",
   "execution_count": null,
   "id": "4fef4b4b",
   "metadata": {},
   "outputs": [],
   "source": [
    "# Use function above to upload the whole bit\n",
    "upload_zarr_directory(client, bucket_name, zarr_file)"
   ]
  }
 ],
 "metadata": {
  "kernelspec": {
   "display_name": "CMDS310",
   "language": "python",
   "name": "CMDS310"
  },
  "language_info": {
   "codemirror_mode": {
    "name": "ipython",
    "version": 3
   },
   "file_extension": ".py",
   "mimetype": "text/x-python",
   "name": "python",
   "nbconvert_exporter": "python",
   "pygments_lexer": "ipython3",
   "version": "3.10.12"
  }
 },
 "nbformat": 4,
 "nbformat_minor": 5
}
