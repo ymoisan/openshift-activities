{
 "cells": [
  {
   "cell_type": "markdown",
   "metadata": {},
   "source": [
    "**FR** - Exemples d'interaction avec un service Ceph de type stockage objet (S3)\n",
    "<hr> \n",
    "\n",
    "**EN** - Examples of how to interact with a Ceph object storage (S3) service"
   ]
  },
  {
   "cell_type": "code",
   "execution_count": null,
   "metadata": {
    "tags": []
   },
   "outputs": [],
   "source": [
    "import boto3\n",
    "import getpass # Used to input secrets"
   ]
  },
  {
   "cell_type": "code",
   "execution_count": null,
   "metadata": {
    "tags": []
   },
   "outputs": [],
   "source": [
    "access_key = getpass.getpass(prompt='Access key: ')"
   ]
  },
  {
   "cell_type": "code",
   "execution_count": null,
   "metadata": {
    "tags": []
   },
   "outputs": [],
   "source": [
    "secret_access_key = getpass.getpass(prompt='Secret access key: ') "
   ]
  },
  {
   "cell_type": "code",
   "execution_count": null,
   "metadata": {
    "tags": []
   },
   "outputs": [],
   "source": [
    "session = boto3.session.Session()\n",
    "\n",
    "s3_client = session.client(\n",
    "    service_name='s3',\n",
    "    aws_access_key_id=access_key,\n",
    "    aws_secret_access_key=secret_access_key,\n",
    "    endpoint_url='https://142.98.30.204:8080', # Load balancer url\n",
    "    use_ssl=False,\n",
    "    verify=False,\n",
    ")"
   ]
  },
  {
   "cell_type": "code",
   "execution_count": null,
   "metadata": {
    "tags": []
   },
   "outputs": [],
   "source": [
    "s3_client.list_buckets()"
   ]
  },
  {
   "cell_type": "code",
   "execution_count": null,
   "metadata": {
    "tags": []
   },
   "outputs": [],
   "source": [
    "s3_client.create_bucket(Bucket=\"fst\")"
   ]
  },
  {
   "cell_type": "code",
   "execution_count": null,
   "metadata": {
    "tags": []
   },
   "outputs": [],
   "source": [
    "s3_client.list_buckets()"
   ]
  },
  {
   "cell_type": "code",
   "execution_count": null,
   "metadata": {
    "tags": []
   },
   "outputs": [],
   "source": [
    "s3_client.list_objects(Bucket=\"fst\")"
   ]
  },
  {
   "cell_type": "code",
   "execution_count": null,
   "metadata": {},
   "outputs": [],
   "source": [
    "# Put file in bucket\n",
    "data = open('your_file_path', 'rb')\n",
    "s3_client.put_object(Bucket=\"your_bucket\", Key='filename_you_want', Body=data)"
   ]
  },
  {
   "cell_type": "markdown",
   "metadata": {},
   "source": [
    "# Utilities"
   ]
  },
  {
   "cell_type": "code",
   "execution_count": null,
   "metadata": {
    "tags": []
   },
   "outputs": [],
   "source": [
    "# Loop through objects listed until no more pagination (IsTruncated: False)\n",
    "bucket_name = 'fst'\n",
    "objects = []\n",
    "\n",
    "response = s3_client.list_objects(Bucket=bucket_name)\n",
    "\n",
    "while True:\n",
    "    for obj in response.get('Contents', []):\n",
    "        objects.append(obj)\n",
    "\n",
    "    if response.get('IsTruncated', False):\n",
    "        # If IsTruncated is True, there are more objects to retrieve.\n",
    "        marker = response.get('NextMarker', None)\n",
    "        response = s3_client.list_objects(Bucket=bucket_name, Marker=marker)\n",
    "    else:\n",
    "        break\n",
    "\n",
    "# Now, the 'objects' list contains all objects in the bucket.\n",
    "\n",
    "if not objects:\n",
    "    print(\"The list is empty.\")\n",
    "else:\n",
    "    for obj in objects:\n",
    "        print(f\"Object: {obj['Key']}, Size: {obj['Size']} bytes\")"
   ]
  },
  {
   "cell_type": "code",
   "execution_count": null,
   "metadata": {
    "tags": []
   },
   "outputs": [],
   "source": [
    "# Delete all objects in <bucket_name>\n",
    "\n",
    "while True:\n",
    "    # List objects in the bucket\n",
    "    response = s3_client.list_objects(Bucket=bucket_name)\n",
    "\n",
    "    # Create a list of objects to delete\n",
    "    objects_to_delete = [{'Key': obj['Key']} for obj in response.get('Contents', [])]\n",
    "    print(\"Objects to delete list = \" + str(objects_to_delete))\n",
    "\n",
    "    # Delete the objects\n",
    "    if not(objects_to_delete):\n",
    "        print(\"Empty bucket.  No objects deleted.\")\n",
    "        break\n",
    "    else:\n",
    "        delete_response = s3_client.delete_objects(\n",
    "            Bucket=bucket_name,\n",
    "            Delete={'Objects': objects_to_delete}\n",
    "        )\n",
    "\n",
    "        # Check the response for errors\n",
    "        if 'Errors' in delete_response:\n",
    "            for error in delete_response['Errors']:\n",
    "                print(f\"Error deleting object {error['Key']}: {error['Message']}\")\n",
    "\n",
    "    # If there are more objects to list, continue with the next marker\n",
    "    if response.get('IsTruncated', False):\n",
    "        marker = response.get('NextMarker', None)\n",
    "        response = s3_client.list_objects(Bucket=bucket_name, Marker=marker)\n",
    "    else:\n",
    "        print(\"All objects deleted successfully.\")\n",
    "        break\n"
   ]
  },
  {
   "cell_type": "code",
   "execution_count": null,
   "metadata": {},
   "outputs": [],
   "source": []
  }
 ],
 "metadata": {
  "kernelspec": {
   "display_name": "CMDS310",
   "language": "python",
   "name": "cmds310"
  },
  "language_info": {
   "codemirror_mode": {
    "name": "ipython",
    "version": 3
   },
   "file_extension": ".py",
   "mimetype": "text/x-python",
   "name": "python",
   "nbconvert_exporter": "python",
   "pygments_lexer": "ipython3",
   "version": "3.10.12"
  }
 },
 "nbformat": 4,
 "nbformat_minor": 4
}
